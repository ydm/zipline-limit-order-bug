{
 "cells": [
  {
   "cell_type": "code",
   "execution_count": 1,
   "id": "d08c52e1-6dd0-4986-aec8-feadfa95fceb",
   "metadata": {},
   "outputs": [],
   "source": [
    "from pathlib import Path\n",
    "import numpy as np\n",
    "import pandas as pd\n",
    "import pickle\n",
    "%load_ext zipline"
   ]
  },
  {
   "cell_type": "markdown",
   "id": "20375a44-cbe8-4ae8-b37e-c42ab1188622",
   "metadata": {},
   "source": [
    "# Setup\n",
    "\n",
    "```\n",
    "#\n",
    "# ~/zipline/extension.py:\n",
    "#\n",
    "\n",
    "import pandas as pd\n",
    "\n",
    "from zipline.data.bundles import register\n",
    "from zipline.data.bundles.csvdir import csvdir_equities\n",
    "\n",
    "\n",
    "start_session = pd.to_datetime('2019-09-09 00:00:00+00:00', utc=True)\n",
    "end_session = pd.to_datetime('2021-05-22 00:00:00+00:00', utc=True)\n",
    "\n",
    "\n",
    "register(\n",
    "    'futures',\n",
    "    csvdir_equities(\n",
    "        ['minute'],             # daily has some problems\n",
    "        '/home/XXX/data/futures.csv',\n",
    "    ),\n",
    "    calendar_name='24/7',\n",
    "    minutes_per_day=1440,\n",
    "    start_session=start_session,\n",
    "    end_session=end_session,\n",
    ")\n",
    "```"
   ]
  },
  {
   "cell_type": "markdown",
   "id": "6e59e446-952e-47a7-85fa-01e9a8d6dc0e",
   "metadata": {},
   "source": [
    "# Limit order bug"
   ]
  },
  {
   "cell_type": "code",
   "execution_count": 2,
   "id": "4827dfef-52f0-413e-a0f1-ae68e63f99e4",
   "metadata": {},
   "outputs": [
    {
     "data": {
      "text/html": [
       "<div>\n",
       "<style scoped>\n",
       "    .dataframe tbody tr th:only-of-type {\n",
       "        vertical-align: middle;\n",
       "    }\n",
       "\n",
       "    .dataframe tbody tr th {\n",
       "        vertical-align: top;\n",
       "    }\n",
       "\n",
       "    .dataframe thead th {\n",
       "        text-align: right;\n",
       "    }\n",
       "</style>\n",
       "<table border=\"1\" class=\"dataframe\">\n",
       "  <thead>\n",
       "    <tr style=\"text-align: right;\">\n",
       "      <th></th>\n",
       "      <th>open</th>\n",
       "      <th>high</th>\n",
       "      <th>low</th>\n",
       "      <th>close</th>\n",
       "      <th>volume</th>\n",
       "      <th>divident</th>\n",
       "      <th>split</th>\n",
       "    </tr>\n",
       "  </thead>\n",
       "  <tbody>\n",
       "    <tr>\n",
       "      <th>count</th>\n",
       "      <td>4320.000000</td>\n",
       "      <td>4320.000000</td>\n",
       "      <td>4320.000000</td>\n",
       "      <td>4320.000000</td>\n",
       "      <td>4320.000000</td>\n",
       "      <td>4320.0</td>\n",
       "      <td>4320.0</td>\n",
       "    </tr>\n",
       "    <tr>\n",
       "      <th>mean</th>\n",
       "      <td>4.917989</td>\n",
       "      <td>4.927511</td>\n",
       "      <td>4.908288</td>\n",
       "      <td>4.918016</td>\n",
       "      <td>23407.049769</td>\n",
       "      <td>0.0</td>\n",
       "      <td>1.0</td>\n",
       "    </tr>\n",
       "    <tr>\n",
       "      <th>std</th>\n",
       "      <td>0.210354</td>\n",
       "      <td>0.212312</td>\n",
       "      <td>0.208612</td>\n",
       "      <td>0.210472</td>\n",
       "      <td>25554.308038</td>\n",
       "      <td>0.0</td>\n",
       "      <td>0.0</td>\n",
       "    </tr>\n",
       "    <tr>\n",
       "      <th>min</th>\n",
       "      <td>4.503400</td>\n",
       "      <td>4.510600</td>\n",
       "      <td>4.486300</td>\n",
       "      <td>4.504200</td>\n",
       "      <td>664.000000</td>\n",
       "      <td>0.0</td>\n",
       "      <td>1.0</td>\n",
       "    </tr>\n",
       "    <tr>\n",
       "      <th>25%</th>\n",
       "      <td>4.758775</td>\n",
       "      <td>4.766275</td>\n",
       "      <td>4.749575</td>\n",
       "      <td>4.758475</td>\n",
       "      <td>8755.250000</td>\n",
       "      <td>0.0</td>\n",
       "      <td>1.0</td>\n",
       "    </tr>\n",
       "    <tr>\n",
       "      <th>50%</th>\n",
       "      <td>4.864000</td>\n",
       "      <td>4.871150</td>\n",
       "      <td>4.854600</td>\n",
       "      <td>4.863850</td>\n",
       "      <td>15252.000000</td>\n",
       "      <td>0.0</td>\n",
       "      <td>1.0</td>\n",
       "    </tr>\n",
       "    <tr>\n",
       "      <th>75%</th>\n",
       "      <td>5.094825</td>\n",
       "      <td>5.104575</td>\n",
       "      <td>5.080675</td>\n",
       "      <td>5.093800</td>\n",
       "      <td>28068.750000</td>\n",
       "      <td>0.0</td>\n",
       "      <td>1.0</td>\n",
       "    </tr>\n",
       "    <tr>\n",
       "      <th>max</th>\n",
       "      <td>5.653800</td>\n",
       "      <td>5.660000</td>\n",
       "      <td>5.615000</td>\n",
       "      <td>5.651400</td>\n",
       "      <td>378123.000000</td>\n",
       "      <td>0.0</td>\n",
       "      <td>1.0</td>\n",
       "    </tr>\n",
       "  </tbody>\n",
       "</table>\n",
       "</div>"
      ],
      "text/plain": [
       "              open         high          low        close         volume  \\\n",
       "count  4320.000000  4320.000000  4320.000000  4320.000000    4320.000000   \n",
       "mean      4.917989     4.927511     4.908288     4.918016   23407.049769   \n",
       "std       0.210354     0.212312     0.208612     0.210472   25554.308038   \n",
       "min       4.503400     4.510600     4.486300     4.504200     664.000000   \n",
       "25%       4.758775     4.766275     4.749575     4.758475    8755.250000   \n",
       "50%       4.864000     4.871150     4.854600     4.863850   15252.000000   \n",
       "75%       5.094825     5.104575     5.080675     5.093800   28068.750000   \n",
       "max       5.653800     5.660000     5.615000     5.651400  378123.000000   \n",
       "\n",
       "       divident   split  \n",
       "count    4320.0  4320.0  \n",
       "mean        0.0     1.0  \n",
       "std         0.0     0.0  \n",
       "min         0.0     1.0  \n",
       "25%         0.0     1.0  \n",
       "50%         0.0     1.0  \n",
       "75%         0.0     1.0  \n",
       "max         0.0     1.0  "
      ]
     },
     "execution_count": 2,
     "metadata": {},
     "output_type": "execute_result"
    }
   ],
   "source": [
    "# Inspect the data, fed to zipline.\n",
    "uni = pd.read_csv(Path('~/data/futures.csv/minute/UNIUSDT.csv').expanduser())\n",
    "mask = np.logical_and(\n",
    "    '2021-01-01'<= uni.date,\n",
    "                   uni.date < '2021-01-04',\n",
    ")\n",
    "uni[mask].describe()"
   ]
  },
  {
   "cell_type": "code",
   "execution_count": 3,
   "id": "14d34683-d038-42f6-85ca-3252beaae9d2",
   "metadata": {
    "tags": []
   },
   "outputs": [],
   "source": [
    "%%capture\n",
    "%%zipline -b futures -s 2021-01-01 -e 2021-01-03 --no-benchmark --data-frequency minute --trading-calendar 24/7 --capital-base 1000000 --output output.pk\n",
    "\n",
    "from zipline import api\n",
    "\n",
    "\n",
    "def initialize(context):\n",
    "    pass\n",
    "\n",
    "\n",
    "def handle_data(context, data):\n",
    "    asset = api.symbol('UNIUSDT')\n",
    "    # What I would expect from this line is to buy\n",
    "    # just one share (coin in this case) at some point\n",
    "    # and never again after that.\n",
    "    api.order_target(asset, 1, limit_price=4.75)"
   ]
  },
  {
   "cell_type": "code",
   "execution_count": 4,
   "id": "7dbbd3b3-2957-42c3-8e1c-f163d6f495d9",
   "metadata": {},
   "outputs": [
    {
     "data": {
      "text/plain": [
       "2021-01-01 23:59:00+00:00    1455\n",
       "2021-01-02 23:59:00+00:00    1500\n",
       "2021-01-03 23:59:00+00:00     530\n",
       "Name: transactions, dtype: int64"
      ]
     },
     "execution_count": 4,
     "metadata": {},
     "output_type": "execute_result"
    }
   ],
   "source": [
    "with open('output.pk', 'rb') as f:\n",
    "    xs = pickle.load(f)\n",
    "xs['transactions'].map(len)"
   ]
  },
  {
   "cell_type": "code",
   "execution_count": 5,
   "id": "c0241ad3-a7ff-4d31-80be-d92f0b23b4b0",
   "metadata": {},
   "outputs": [
    {
     "data": {
      "text/plain": [
       "2021-01-01 23:59:00+00:00    1440\n",
       "2021-01-02 23:59:00+00:00    1502\n",
       "2021-01-03 23:59:00+00:00    1462\n",
       "Name: orders, dtype: int64"
      ]
     },
     "execution_count": 5,
     "metadata": {},
     "output_type": "execute_result"
    }
   ],
   "source": [
    "xs['orders'].map(len)"
   ]
  },
  {
   "cell_type": "code",
   "execution_count": 6,
   "id": "1853af9c-5249-4de3-89dc-7a3c58aa43da",
   "metadata": {},
   "outputs": [
    {
     "data": {
      "text/html": [
       "<div>\n",
       "<style scoped>\n",
       "    .dataframe tbody tr th:only-of-type {\n",
       "        vertical-align: middle;\n",
       "    }\n",
       "\n",
       "    .dataframe tbody tr th {\n",
       "        vertical-align: top;\n",
       "    }\n",
       "\n",
       "    .dataframe thead th {\n",
       "        text-align: right;\n",
       "    }\n",
       "</style>\n",
       "<table border=\"1\" class=\"dataframe\">\n",
       "  <thead>\n",
       "    <tr style=\"text-align: right;\">\n",
       "      <th></th>\n",
       "      <th>short_value</th>\n",
       "      <th>long_value</th>\n",
       "    </tr>\n",
       "  </thead>\n",
       "  <tbody>\n",
       "    <tr>\n",
       "      <th>2021-01-01 23:59:00+00:00</th>\n",
       "      <td>-1.926532e+06</td>\n",
       "      <td>0.0</td>\n",
       "    </tr>\n",
       "    <tr>\n",
       "      <th>2021-01-02 23:59:00+00:00</th>\n",
       "      <td>-1.079972e+07</td>\n",
       "      <td>0.0</td>\n",
       "    </tr>\n",
       "    <tr>\n",
       "      <th>2021-01-03 23:59:00+00:00</th>\n",
       "      <td>-1.119502e+07</td>\n",
       "      <td>0.0</td>\n",
       "    </tr>\n",
       "  </tbody>\n",
       "</table>\n",
       "</div>"
      ],
      "text/plain": [
       "                            short_value  long_value\n",
       "2021-01-01 23:59:00+00:00 -1.926532e+06         0.0\n",
       "2021-01-02 23:59:00+00:00 -1.079972e+07         0.0\n",
       "2021-01-03 23:59:00+00:00 -1.119502e+07         0.0"
      ]
     },
     "execution_count": 6,
     "metadata": {},
     "output_type": "execute_result"
    }
   ],
   "source": [
    "xs[['short_value', 'long_value']]"
   ]
  },
  {
   "cell_type": "markdown",
   "id": "3c42a692-132a-47e8-8268-5281f0f4f549",
   "metadata": {},
   "source": [
    "# ClosePolicy bug\n",
    "\n",
    "```\n",
    "I fix would be to close all orders at MINUTE_END,\n",
    "but it turns out that should_cancel is only called\n",
    "for SESSION_END and also self.clock never fires\n",
    "MINUTE_END (tradesimulation.py:252).\n",
    "```"
   ]
  },
  {
   "cell_type": "code",
   "execution_count": 7,
   "id": "bef661c8-360a-4275-9bc7-61284fa18995",
   "metadata": {},
   "outputs": [],
   "source": [
    "%%capture\n",
    "%%zipline -b futures -s 2021-01-01 -e 2021-01-03 --no-benchmark --data-frequency minute --trading-calendar 24/7 --capital-base 1_000_000 --output output.pk\n",
    "\n",
    "from zipline import api\n",
    "from zipline.finance.cancel_policy import CancelPolicy\n",
    "from zipline.gens.sim_engine import MINUTE_END\n",
    "\n",
    "\n",
    "class EOMCancel(CancelPolicy):\n",
    "    '''End of minute cancel policy.'''\n",
    "    def should_cancel(self, event):\n",
    "        # print(f'EOMCancel.should_cancel: event={event} return={event==MINUTE_END}')\n",
    "        return event == MINUTE_END\n",
    "\n",
    "\n",
    "def initialize(context):\n",
    "    context.i = 0\n",
    "    api.set_cancel_policy(EOMCancel())\n",
    "\n",
    "\n",
    "def handle_data(context, data):\n",
    "    # print('handle_data:', context.get_datetime(), context.i)\n",
    "    context.i += 1\n",
    "    asset = api.symbol('UNIUSDT')\n",
    "    api.order_target(asset, 1, limit_price=4.75)"
   ]
  },
  {
   "cell_type": "markdown",
   "id": "2d63888d-b881-45c9-8def-82254cd9dcd0",
   "metadata": {},
   "source": [
    "### OUTPUT\n",
    "```\n",
    "handle_data: 2021-01-01 00:00:00+00:00 0\n",
    "...\n",
    "handle_data: 2021-01-01 23:59:00+00:00 1439\n",
    "EOMCancel.should_cancel: event=2 return=False\n",
    "handle_data: 2021-01-02 00:00:00+00:00 1440\n",
    "...\n",
    "handle_data: 2021-01-02 23:59:00+00:00 2879\n",
    "EOMCancel.should_cancel: event=2 return=False\n",
    "handle_data: 2021-01-03 00:00:00+00:00 2880\n",
    "...\n",
    "handle_data: 2021-01-03 23:59:00+00:00 4319\n",
    "EOMCancel.should_cancel: event=2 return=False\n",
    "```"
   ]
  },
  {
   "cell_type": "code",
   "execution_count": 8,
   "id": "cab760a3-ef64-4180-bef1-055b3b5bbf9d",
   "metadata": {},
   "outputs": [
    {
     "data": {
      "text/plain": [
       "2021-01-01 23:59:00+00:00    1455\n",
       "2021-01-02 23:59:00+00:00    1500\n",
       "2021-01-03 23:59:00+00:00     530\n",
       "Name: transactions, dtype: int64"
      ]
     },
     "execution_count": 8,
     "metadata": {},
     "output_type": "execute_result"
    }
   ],
   "source": [
    "with open('output.pk', 'rb') as f:\n",
    "    xs = pickle.load(f)\n",
    "xs['transactions'].map(len)"
   ]
  },
  {
   "cell_type": "code",
   "execution_count": 9,
   "id": "5c46ba44-3c39-44a9-857d-343bab3e477b",
   "metadata": {},
   "outputs": [
    {
     "data": {
      "text/plain": [
       "2021-01-01 23:59:00+00:00    1440\n",
       "2021-01-02 23:59:00+00:00    1502\n",
       "2021-01-03 23:59:00+00:00    1462\n",
       "Name: orders, dtype: int64"
      ]
     },
     "execution_count": 9,
     "metadata": {},
     "output_type": "execute_result"
    }
   ],
   "source": [
    "xs['orders'].map(len)"
   ]
  },
  {
   "cell_type": "code",
   "execution_count": 10,
   "id": "0bd69758-3fed-41e8-b906-514907d76b83",
   "metadata": {},
   "outputs": [
    {
     "data": {
      "text/html": [
       "<div>\n",
       "<style scoped>\n",
       "    .dataframe tbody tr th:only-of-type {\n",
       "        vertical-align: middle;\n",
       "    }\n",
       "\n",
       "    .dataframe tbody tr th {\n",
       "        vertical-align: top;\n",
       "    }\n",
       "\n",
       "    .dataframe thead th {\n",
       "        text-align: right;\n",
       "    }\n",
       "</style>\n",
       "<table border=\"1\" class=\"dataframe\">\n",
       "  <thead>\n",
       "    <tr style=\"text-align: right;\">\n",
       "      <th></th>\n",
       "      <th>short_value</th>\n",
       "      <th>long_value</th>\n",
       "    </tr>\n",
       "  </thead>\n",
       "  <tbody>\n",
       "    <tr>\n",
       "      <th>2021-01-01 23:59:00+00:00</th>\n",
       "      <td>-1.926532e+06</td>\n",
       "      <td>0.0</td>\n",
       "    </tr>\n",
       "    <tr>\n",
       "      <th>2021-01-02 23:59:00+00:00</th>\n",
       "      <td>-1.079972e+07</td>\n",
       "      <td>0.0</td>\n",
       "    </tr>\n",
       "    <tr>\n",
       "      <th>2021-01-03 23:59:00+00:00</th>\n",
       "      <td>-1.119502e+07</td>\n",
       "      <td>0.0</td>\n",
       "    </tr>\n",
       "  </tbody>\n",
       "</table>\n",
       "</div>"
      ],
      "text/plain": [
       "                            short_value  long_value\n",
       "2021-01-01 23:59:00+00:00 -1.926532e+06         0.0\n",
       "2021-01-02 23:59:00+00:00 -1.079972e+07         0.0\n",
       "2021-01-03 23:59:00+00:00 -1.119502e+07         0.0"
      ]
     },
     "execution_count": 10,
     "metadata": {},
     "output_type": "execute_result"
    }
   ],
   "source": [
    "xs[['short_value', 'long_value']]"
   ]
  },
  {
   "cell_type": "markdown",
   "id": "f47907d0-f0cc-48cf-ae93-99bebb014f81",
   "metadata": {},
   "source": [
    "# Userspace fix"
   ]
  },
  {
   "cell_type": "code",
   "execution_count": 11,
   "id": "e7e2b021-9dd8-4444-87aa-e7a2330a56c2",
   "metadata": {},
   "outputs": [],
   "source": [
    "%%capture\n",
    "%%zipline -b futures -s 2021-01-01 -e 2021-01-03 --no-benchmark --data-frequency minute --trading-calendar 24/7 --capital-base 1000000 --output output.pk\n",
    "\n",
    "import numpy as np\n",
    "from zipline import api\n",
    "\n",
    "\n",
    "def initialize(context):\n",
    "    pass\n",
    "\n",
    "\n",
    "def limit_order(asset, amount, limit):\n",
    "    exists = False\n",
    "    for order in api.get_open_orders().get(asset, []):\n",
    "        if np.allclose(order['amount'], amount) and np.allclose(order['limit'], limit):\n",
    "            exists = True\n",
    "    if not exists:\n",
    "        api.order_target(asset, amount, limit)\n",
    "        \n",
    "        \n",
    "def handle_data(context, data):\n",
    "    asset = api.symbol('UNIUSDT')\n",
    "    limit_order(asset, 1, 4.75)"
   ]
  },
  {
   "cell_type": "code",
   "execution_count": 12,
   "id": "615b40c0-2ffa-4096-a57f-05aee8b19f85",
   "metadata": {},
   "outputs": [
    {
     "data": {
      "text/plain": [
       "2021-01-01 23:59:00+00:00    1\n",
       "2021-01-02 23:59:00+00:00    0\n",
       "2021-01-03 23:59:00+00:00    0\n",
       "Name: transactions, dtype: int64"
      ]
     },
     "execution_count": 12,
     "metadata": {},
     "output_type": "execute_result"
    }
   ],
   "source": [
    "with open('output.pk', 'rb') as f:\n",
    "    xs = pickle.load(f)\n",
    "xs['transactions'].map(len)"
   ]
  },
  {
   "cell_type": "code",
   "execution_count": 13,
   "id": "d7f3dbce-a39b-472e-aa4f-46af03841715",
   "metadata": {},
   "outputs": [
    {
     "data": {
      "text/plain": [
       "2021-01-01 23:59:00+00:00    1\n",
       "2021-01-02 23:59:00+00:00    0\n",
       "2021-01-03 23:59:00+00:00    0\n",
       "Name: orders, dtype: int64"
      ]
     },
     "execution_count": 13,
     "metadata": {},
     "output_type": "execute_result"
    }
   ],
   "source": [
    "xs['orders'].map(len)"
   ]
  },
  {
   "cell_type": "code",
   "execution_count": 14,
   "id": "6ab2484c-bf3d-4d68-af97-d9a40ff46b88",
   "metadata": {},
   "outputs": [
    {
     "data": {
      "text/html": [
       "<div>\n",
       "<style scoped>\n",
       "    .dataframe tbody tr th:only-of-type {\n",
       "        vertical-align: middle;\n",
       "    }\n",
       "\n",
       "    .dataframe tbody tr th {\n",
       "        vertical-align: top;\n",
       "    }\n",
       "\n",
       "    .dataframe thead th {\n",
       "        text-align: right;\n",
       "    }\n",
       "</style>\n",
       "<table border=\"1\" class=\"dataframe\">\n",
       "  <thead>\n",
       "    <tr style=\"text-align: right;\">\n",
       "      <th></th>\n",
       "      <th>short_value</th>\n",
       "      <th>long_value</th>\n",
       "    </tr>\n",
       "  </thead>\n",
       "  <tbody>\n",
       "    <tr>\n",
       "      <th>2021-01-01 23:59:00+00:00</th>\n",
       "      <td>0.0</td>\n",
       "      <td>4.745</td>\n",
       "    </tr>\n",
       "    <tr>\n",
       "      <th>2021-01-02 23:59:00+00:00</th>\n",
       "      <td>0.0</td>\n",
       "      <td>4.863</td>\n",
       "    </tr>\n",
       "    <tr>\n",
       "      <th>2021-01-03 23:59:00+00:00</th>\n",
       "      <td>0.0</td>\n",
       "      <td>5.460</td>\n",
       "    </tr>\n",
       "  </tbody>\n",
       "</table>\n",
       "</div>"
      ],
      "text/plain": [
       "                           short_value  long_value\n",
       "2021-01-01 23:59:00+00:00          0.0       4.745\n",
       "2021-01-02 23:59:00+00:00          0.0       4.863\n",
       "2021-01-03 23:59:00+00:00          0.0       5.460"
      ]
     },
     "execution_count": 14,
     "metadata": {},
     "output_type": "execute_result"
    }
   ],
   "source": [
    "xs[['short_value', 'long_value']]"
   ]
  }
 ],
 "metadata": {
  "kernelspec": {
   "display_name": "Python 3",
   "language": "python",
   "name": "python3"
  },
  "language_info": {
   "codemirror_mode": {
    "name": "ipython",
    "version": 3
   },
   "file_extension": ".py",
   "mimetype": "text/x-python",
   "name": "python",
   "nbconvert_exporter": "python",
   "pygments_lexer": "ipython3",
   "version": "3.9.4"
  }
 },
 "nbformat": 4,
 "nbformat_minor": 5
}
